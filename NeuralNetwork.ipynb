{
 "cells": [
  {
   "cell_type": "code",
   "execution_count": 1,
   "id": "5378117c",
   "metadata": {},
   "outputs": [],
   "source": [
    "import numpy as np \n",
    "import pandas as pd\n",
    "import matplotlib.pyplot as plt\n",
    "from sklearn.model_selection import train_test_split \n",
    "import utils\n",
    "# Optimization module in scipy\n",
    "from scipy import optimize\n",
    "from sklearn import metrics\n",
    "# tells matplotlib to embed plots within the notebook\n",
    "%matplotlib inline"
   ]
  },
  {
   "cell_type": "markdown",
   "id": "f6a766be",
   "metadata": {},
   "source": [
    "# Clasification of adults that have an income larger than 50K\n",
    "\n",
    "# Using a Neural Network\n",
    "------------------------------------------\n",
    "*******************************************"
   ]
  },
  {
   "cell_type": "markdown",
   "id": "b17b2b99",
   "metadata": {},
   "source": [
    "# Preprocesing"
   ]
  },
  {
   "cell_type": "markdown",
   "id": "b4468278",
   "metadata": {},
   "source": [
    "### Loading Processed Data"
   ]
  },
  {
   "cell_type": "code",
   "execution_count": 2,
   "id": "2cfc3c66",
   "metadata": {},
   "outputs": [],
   "source": [
    "data_x = pd.read_csv('adult_processed_x.csv')"
   ]
  },
  {
   "cell_type": "code",
   "execution_count": 3,
   "id": "355c29c1",
   "metadata": {},
   "outputs": [],
   "source": [
    "data_y= pd.read_csv('adult_processed_y.csv')"
   ]
  },
  {
   "cell_type": "code",
   "execution_count": 4,
   "id": "5a473d06",
   "metadata": {
    "scrolled": true
   },
   "outputs": [
    {
     "name": "stdout",
     "output_type": "stream",
     "text": [
      "(32561, 88)\n",
      "float64\n"
     ]
    }
   ],
   "source": [
    "X= data_x.to_numpy()\n",
    "print(X.shape)\n",
    "print(X.dtype)"
   ]
  },
  {
   "cell_type": "code",
   "execution_count": 5,
   "id": "4bd04a20",
   "metadata": {
    "scrolled": true
   },
   "outputs": [
    {
     "name": "stdout",
     "output_type": "stream",
     "text": [
      "(32561, 1)\n",
      "int64\n"
     ]
    }
   ],
   "source": [
    "y = data_y.to_numpy()\n",
    "print(y.shape)\n",
    "print(y.dtype)"
   ]
  },
  {
   "cell_type": "markdown",
   "id": "12eed7a2",
   "metadata": {},
   "source": [
    "### Splitting Data"
   ]
  },
  {
   "cell_type": "code",
   "execution_count": 6,
   "id": "2673aa01",
   "metadata": {
    "scrolled": true
   },
   "outputs": [
    {
     "name": "stdout",
     "output_type": "stream",
     "text": [
      "Total number of samples:\t32561\n",
      "Number of training samples:\t16280\n",
      "Number of validation samples:\t8140\n",
      "Number of test samples:\t8141\n",
      "(16280, 88)\n",
      "(8140, 88)\n",
      "(8141, 88)\n"
     ]
    }
   ],
   "source": [
    "N = len(X)\n",
    "N_train = int(0.5*N)      # The model  parameters for the network are adjusted using this set\n",
    "N_val = int(0.25*N) # Use to tune parameters in the model. And avoid overfitting to the trainning set.  \n",
    "N_test = N-N_train-N_val\n",
    "\n",
    "# set random seed:\n",
    "np.random.seed(0) \n",
    "\n",
    "# create a random permutation for splitting into training, validation and test\n",
    "randperm = np.random.permutation(N)\n",
    "\n",
    "# split into training and test\n",
    "train_idx = randperm[:N_train]\n",
    "val_idx = randperm[N_train:(N_train+N_val)]\n",
    "test_idx = randperm[(N_train+N_val):]\n",
    "\n",
    "Xtrain,Xval, Xtest = X[train_idx, :],X[val_idx, :], X[test_idx, :]\n",
    "ytrain,yval, ytest = y[train_idx], y[val_idx] , y[test_idx]\n",
    "\n",
    "print('Total number of samples:\\t%d' % N)\n",
    "print('Number of training samples:\\t%d' % N_train)\n",
    "print('Number of validation samples:\\t%d' % N_val)\n",
    "print('Number of test samples:\\t%d' % N_test)\n",
    "print(Xtrain.shape)\n",
    "print(Xval.shape)\n",
    "print(Xtest.shape)"
   ]
  },
  {
   "cell_type": "markdown",
   "id": "bda082ff-670a-46ca-b457-c7b3c2da41d9",
   "metadata": {},
   "source": [
    "# Model Evaluation"
   ]
  },
  {
   "cell_type": "code",
   "execution_count": 7,
   "id": "b709b3f4-c645-43d5-bdc4-0bc8c89bb234",
   "metadata": {},
   "outputs": [],
   "source": [
    "def model_evaluation(actual, pred):\n",
    "    \n",
    "    confusion = pd.crosstab(actual, pred, rownames=['Actual'], colnames=['Predicted'])\n",
    "    import matplotlib.pyplot as plt\n",
    "    import seaborn as sns\n",
    "    \n",
    "    \n",
    "    \n",
    "    TP = confusion.loc[1,1]\n",
    "    TN = confusion.loc[0,0]\n",
    "    FP = confusion.loc[0,1]\n",
    "    FN = confusion.loc[1,0]\n",
    "    \n",
    "    accuracy = ((TP+TN))/(TP+FN+FP+TN)\n",
    "    precision = (TP)/(TP+FP)\n",
    "    recall = (TP)/(TP+FN)\n",
    "    f_measure = (2*recall*precision)/(recall+precision)\n",
    "    sensitivity = TP / (TP + FN)\n",
    "    specificity = TN / (TN + FP)\n",
    "    error_rate = 1 - accuracy\n",
    "    \n",
    "    out = {}\n",
    "    out['accuracy'] =  accuracy\n",
    "    out['precision'] = precision\n",
    "    out['recall'] = recall\n",
    "    out['f_measure'] = f_measure\n",
    "    out['sensitivity'] = sensitivity\n",
    "    out['specificity'] = specificity\n",
    "    out['error_rate'] = error_rate\n",
    "    \n",
    "    return out"
   ]
  },
  {
   "cell_type": "markdown",
   "id": "58ce41e2-ed19-40f3-9d02-fd28a2270d80",
   "metadata": {},
   "source": [
    "# Confusion Matrix Plotter"
   ]
  },
  {
   "cell_type": "code",
   "execution_count": 8,
   "id": "859f9f70-346b-4461-9e7b-96642eba0fb5",
   "metadata": {},
   "outputs": [],
   "source": [
    "def confusion_matrix_plotter(val, pred):\n",
    "    from sklearn.metrics import confusion_matrix\n",
    "    from matplotlib.colors import LinearSegmentedColormap\n",
    "    labels = list(range(2))\n",
    "    #print(labels)\n",
    "    \n",
    "    cm = confusion_matrix(val, pred, labels=labels )\n",
    "    fig = plt.figure()\n",
    "    ax = fig.add_subplot(111)\n",
    "    \n",
    "    colors = [(1, 0, 0), (0, 1, 0)]\n",
    "    cmap = LinearSegmentedColormap.from_list('custom', colors, N=2)\n",
    "    cax = ax.matshow(cm,cmap=\"coolwarm\")\n",
    "    \n",
    "    fig.colorbar(cax)\n",
    "    ax.set_xticks(labels)\n",
    "    ax.set_yticks(labels)\n",
    "    ax.set_xticklabels(labels)\n",
    "    ax.set_yticklabels(labels)\n",
    "    \n",
    "    # add numbers to squares\n",
    "    for i in range(cm.shape[0]):\n",
    "        for j in range(cm.shape[1]):\n",
    "            ax.text(j, i, cm[i, j], ha='center', va='center',color='white')\n",
    "\n",
    "    \n",
    "    plt.tight_layout()\n",
    "    plt.ylabel(\"Predicted Class\")\n",
    "    plt.xlabel(\"Actual Class\")\n",
    "    plt.show()"
   ]
  },
  {
   "cell_type": "markdown",
   "id": "13490adb",
   "metadata": {},
   "source": [
    "# Utility functions"
   ]
  },
  {
   "cell_type": "code",
   "execution_count": 9,
   "id": "d56c6e0f",
   "metadata": {},
   "outputs": [],
   "source": [
    "# ====================== MY CODE HERE ASSIG.4 ======================\n",
    "\n",
    "def randInitializeWeights(L_in, L_out, epsilon_init=0.12):\n",
    "    # Assignment 4\n",
    "    W = np.zeros((L_out, 1 + L_in))\n",
    "    # ====================== MY CODE HERE ======================\n",
    "    W = np.random.rand(L_out, 1 + L_in) * 2 * epsilon_init - epsilon_init\n",
    "    # ============================================================\n",
    "    return W"
   ]
  },
  {
   "cell_type": "code",
   "execution_count": 10,
   "id": "4afc75de",
   "metadata": {},
   "outputs": [],
   "source": [
    "# ====================== MY CODE HERE ASSIG.4 ======================\n",
    "def matrix_of_y(y,num_labels):\n",
    "    n = y.shape[0]\n",
    "    y_v = np.zeros([n,num_labels])\n",
    "    if(y_v.shape[1]==1):\n",
    "        return y\n",
    "    else:\n",
    "        for r in range (n):\n",
    "            y_v[r,y[r]] = 1\n",
    "        return  y_v  "
   ]
  },
  {
   "cell_type": "code",
   "execution_count": 11,
   "id": "256ea39f",
   "metadata": {},
   "outputs": [],
   "source": [
    "# ====================== MY CODE HERE ASSIG.3 ======================\n",
    "def sigmoid(z):\n",
    "    z = np.array(z)\n",
    "    g = np.reciprocal((np.exp(z*-1))+1)\n",
    "    \n",
    "    return g"
   ]
  },
  {
   "cell_type": "code",
   "execution_count": 12,
   "id": "e5e77018",
   "metadata": {},
   "outputs": [],
   "source": [
    "# ====================== MY CODE HERE ASSIG.4 ======================\n",
    "def sigmoidGradient(z):\n",
    "    \n",
    "    g = np.zeros(z.shape)\n",
    "    g_t = sigmoid(z)\n",
    "    g= g_t*(1-g_t)\n",
    "    \n",
    "    return g"
   ]
  },
  {
   "cell_type": "code",
   "execution_count": 13,
   "id": "a06e74ff",
   "metadata": {},
   "outputs": [],
   "source": [
    "# ====================== MY CODE HERE ASSIG.4 ADAPTED======================\n",
    "def nnCostFunction(nn_params,\n",
    "                   input_layer_size,\n",
    "                   hidden_layer_size,\n",
    "                   num_labels,\n",
    "                   X, y, lambda_=0.0):\n",
    "    \n",
    "    Theta1 = np.reshape(nn_params[:hidden_layer_size * (input_layer_size + 1)],\n",
    "                        (hidden_layer_size, (input_layer_size + 1)))\n",
    "\n",
    "    Theta2 = np.reshape(nn_params[(hidden_layer_size * (input_layer_size + 1)):],\n",
    "                        (num_labels, (hidden_layer_size + 1)))\n",
    "\n",
    "    m = y.size\n",
    "    J = 0\n",
    "    Theta1_grad = np.zeros(Theta1.shape)\n",
    "    Theta2_grad = np.zeros(Theta2.shape)\n",
    "\n",
    "    \n",
    "    # ====================== MY CODE HERE ASSIG.4======================\n",
    "    #Calculate hypothesis \n",
    "    a1 = np.concatenate([np.ones((m, 1)), X], axis=1) # add x0 = 1\n",
    "    z2 = np.matmul(Theta1,a1.T)\n",
    "    a2 = sigmoid(z2)\n",
    "    a2 = np.concatenate([np.ones((1, a2.shape[1])), a2], axis=0)\n",
    "    z3 = np.matmul(Theta2,(a2))\n",
    "    a3 = sigmoid(z3)\n",
    "    almost_zero=1e-10\n",
    "    hyp = a3.T\n",
    "    y_v = matrix_of_y(y,num_labels)\n",
    "\n",
    "    #Calculate cost function. \n",
    "    J = (-1 / m) * np.sum((np.log(hyp+almost_zero) * y_v) + np.log(1 - hyp+almost_zero) * (1 - y_v)) \n",
    "\n",
    "    #Calculate regularized cost function.\n",
    "    temp_theta1 = Theta1[:,1:]\n",
    "    temp_theta2 = Theta2[:,1:]\n",
    "\n",
    "    J_reg_factor = (lambda_/(2*m))*(np.sum(np.square(temp_theta1))+np.sum(np.square(temp_theta2)))\n",
    "    J_reg = J+J_reg_factor\n",
    "    \n",
    "    delta_3 = hyp - y_v+almost_zero\n",
    "    delta_2 = delta_3.dot(Theta2)[:, 1:] * sigmoidGradient(a1.dot(Theta1.T))\n",
    "\n",
    "    Delta1 = delta_2.T.dot(a1)\n",
    "    Delta2 = delta_3.T.dot(a2.T)\n",
    "    # Add regularization to gradient\n",
    "    Theta1_grad = (1 / m) * Delta1\n",
    "    Theta1_grad[:, 1:] = Theta1_grad[:, 1:] + (lambda_ / m) * Theta1[:, 1:]\n",
    "    \n",
    "    Theta2_grad = (1 / m) * Delta2\n",
    "    Theta2_grad[:, 1:] = Theta2_grad[:, 1:] + (lambda_ / m) * Theta2[:, 1:]\n",
    "      \n",
    "    grad = np.concatenate([Theta1_grad.ravel(), Theta2_grad.ravel()])\n",
    "    \n",
    "    return J_reg, grad"
   ]
  },
  {
   "cell_type": "code",
   "execution_count": 14,
   "id": "80f61479",
   "metadata": {},
   "outputs": [],
   "source": [
    "# ====================== MY CODE HERE ASSIG.4 ======================\n",
    "def randomInititalWeights(input_layer_size, hidden_layer_size,num_labels):\n",
    "    initial_Theta1 = randInitializeWeights(input_layer_size, hidden_layer_size)\n",
    "    initial_Theta2 = randInitializeWeights(hidden_layer_size, num_labels)\n",
    "    # Unroll parameters\n",
    "    initial_nn_params = np.concatenate([initial_Theta1.ravel(), initial_Theta2.ravel()], axis=0)\n",
    "    return initial_nn_params"
   ]
  },
  {
   "cell_type": "code",
   "execution_count": 15,
   "id": "a80d45eb",
   "metadata": {},
   "outputs": [],
   "source": [
    "def fowardPropagation(inputSet, theta1_input,theta2_input ):\n",
    "    m= inputSet[:,0].size\n",
    "    a1 = np.concatenate([np.ones((m, 1)), inputSet], axis=1) # add x0 = 1\n",
    "    z2 = np.matmul(theta1_input,a1.T)\n",
    "    a2 = sigmoid(z2)\n",
    "    a2 = np.concatenate([np.ones((1, a2.shape[1])), a2], axis=0)\n",
    "    z3 = np.matmul(theta2_input,(a2))\n",
    "    a3 = sigmoid(z3)\n",
    "    hyp = a3.T\n",
    "    return hyp"
   ]
  },
  {
   "cell_type": "code",
   "execution_count": 16,
   "id": "a3150d33",
   "metadata": {},
   "outputs": [],
   "source": [
    "def dispayPerformance(inputSetX, inputSetY,theta1_input,theta2_input,thresh):\n",
    "    hyp_out = fowardPropagation(inputSetX,theta1_input,theta2_input)\n",
    "    \n",
    "    hyp_= [0 if value < thresh else 1 for value in hyp_out]\n",
    "    accuracy_score= metrics.accuracy_score (inputSetY, hyp_)\n",
    "    p_score = metrics.precision_score(inputSetY, hyp_)\n",
    "    r_score = metrics.recall_score(inputSetY, hyp_) \n",
    "    f_score = metrics.f1_score(inputSetY, hyp_) \n",
    "    return accuracy_score,p_score, r_score,f_score\n",
    "    "
   ]
  },
  {
   "cell_type": "code",
   "execution_count": 17,
   "id": "94451e97",
   "metadata": {},
   "outputs": [],
   "source": [
    "def plotData(trainError, valError,x,label_y,label_x):\n",
    "\n",
    "    fig = plt.figure()  # open a new figure\n",
    "    \n",
    "    # ====================== YOUR CODE HERE ======================= \n",
    "\n",
    "    plt.plot(x, trainError, lw=2, label= 'Train Set')\n",
    "    plt.plot(x, valError, lw=2,label= \"Validation Set\")\n",
    "    plt.ylabel(label_y)\n",
    "    plt.xlabel(label_x)\n",
    "    plt.legend()"
   ]
  },
  {
   "cell_type": "markdown",
   "id": "e17849e0",
   "metadata": {},
   "source": [
    "# Pre-Analysis"
   ]
  },
  {
   "cell_type": "markdown",
   "id": "12075ad1",
   "metadata": {},
   "source": [
    "### Checking if data is biased \n",
    "\n",
    "The data is biased \n",
    "Only 25% of the data erans more than 50K "
   ]
  },
  {
   "cell_type": "code",
   "execution_count": 18,
   "id": "351d8010",
   "metadata": {},
   "outputs": [
    {
     "name": "stdout",
     "output_type": "stream",
     "text": [
      "Total number of samples with income above 50K:\t7841\n",
      "Total number of samples :\t\t\t32561\n"
     ]
    }
   ],
   "source": [
    "large_income=y[y==1].size\n",
    "print('Total number of samples with income above 50K:\\t%d' % large_income)\n",
    "print('Total number of samples :\\t\\t\\t%d' % y.size)"
   ]
  },
  {
   "cell_type": "markdown",
   "id": "f47f3d70",
   "metadata": {},
   "source": [
    "### Model representation\n",
    "\n",
    "Our neural network is shown in the following figure.\n",
    "\n",
    "It has 3 layers - an input layer, a hidden layer and an output layer.\n",
    "- Input layer has 88 layer units.\n",
    "- Hidden layer 100 layer units.\n",
    "- Output layer has 2 layer units. \n"
   ]
  },
  {
   "cell_type": "code",
   "execution_count": 19,
   "id": "dfbbe904",
   "metadata": {},
   "outputs": [],
   "source": [
    "input_layer_size  = Xtrain.shape[1]    \n",
    "num_labels = 1          # where 1 means (income => 50k)"
   ]
  },
  {
   "cell_type": "markdown",
   "id": "123194b2",
   "metadata": {},
   "source": [
    "# Neural Network"
   ]
  },
  {
   "cell_type": "markdown",
   "id": "8a576aab",
   "metadata": {},
   "source": [
    " ### Calculate optimal weights for neural network"
   ]
  },
  {
   "cell_type": "code",
   "execution_count": 20,
   "id": "415e82b8",
   "metadata": {},
   "outputs": [],
   "source": [
    "def neuralNetwork(training_steps,lambda_in,hidden_layer_size):\n",
    "    options= {'maxiter': training_steps}\n",
    "    lambda_ = lambda_in\n",
    "    \n",
    "    \n",
    "    costFunction = lambda p: nnCostFunction(p, input_layer_size,\n",
    "                                        hidden_layer_size,\n",
    "                                        num_labels, Xtrain, ytrain, lambda_)\n",
    "    \n",
    "    initial_rand_params= randomInititalWeights(input_layer_size,hidden_layer_size,num_labels)\n",
    "    \n",
    "    res = optimize.minimize(costFunction,\n",
    "                            initial_rand_params,\n",
    "                            jac=True,\n",
    "                            method='TNC',\n",
    "                            options=options)\n",
    "    # get the solution of the optimization\n",
    "    nn_params = res.x\n",
    "    # Obtain Theta1 and Theta2 back from nn_params\n",
    "    Theta1_train = np.reshape(nn_params[:hidden_layer_size * (input_layer_size + 1)],\n",
    "                        (hidden_layer_size, (input_layer_size + 1)))\n",
    "\n",
    "    Theta2_train= np.reshape(nn_params[(hidden_layer_size * (input_layer_size + 1)):],\n",
    "                        (num_labels, (hidden_layer_size + 1)))\n",
    "    return Theta1_train,Theta2_train,nn_params\n",
    "    "
   ]
  },
  {
   "cell_type": "markdown",
   "id": "3d5f8ff2",
   "metadata": {},
   "source": [
    "# Tuning parameters\n",
    "\n",
    "### Calculating optimal units in hidden layer\n",
    "\n",
    "Conclusion: Most optimal number units in hidden layer-> 100 "
   ]
  },
  {
   "cell_type": "code",
   "execution_count": 21,
   "id": "a7ab1b3a",
   "metadata": {
    "scrolled": true
   },
   "outputs": [],
   "source": [
    "hiden_units_values=np.array([10,20,40,75,78, 80,82,85,90,100,120,200])\n",
    "train_error1 = np.zeros(hiden_units_values.size)\n",
    "val_error1 =np.zeros(hiden_units_values.size)\n",
    "step_units_input = 50\n",
    "lambda_in = 1\n",
    "for i in range(hiden_units_values.size):\n",
    "    \n",
    "    theta1,theta2,initial_nn_params = neuralNetwork(step_units_input,lambda_in,hiden_units_values[i])\n",
    "    train_error1[i],_=nnCostFunction(initial_nn_params,input_layer_size,hiden_units_values[i],num_labels,Xtrain,ytrain)\n",
    "    val_error1[i],_=nnCostFunction(initial_nn_params,input_layer_size,hiden_units_values[i],num_labels,Xval,yval)\n",
    "\n",
    "\n"
   ]
  },
  {
   "cell_type": "code",
   "execution_count": 22,
   "id": "fe7b8276",
   "metadata": {},
   "outputs": [
    {
     "name": "stdout",
     "output_type": "stream",
     "text": [
      "Number of hidden layers with the least cost for Xval 78\n"
     ]
    }
   ],
   "source": [
    "print(\"Number of hidden layers with the least cost for Xval\",hiden_units_values[np.argmin(val_error1)])"
   ]
  },
  {
   "cell_type": "code",
   "execution_count": 23,
   "id": "5a86e460",
   "metadata": {
    "scrolled": true
   },
   "outputs": [
    {
     "data": {
      "image/png": "[encoded data removed]",
      "text/plain": [
       "<Figure size 432x288 with 1 Axes>"
      ]
     },
     "metadata": {
      "needs_background": "light"
     },
     "output_type": "display_data"
    }
   ],
   "source": [
    "# def plotData(trainError, valError,x,label_y,label_x):\n",
    "plotData(train_error1,val_error1,hiden_units_values,\"Error\",\"Number of units in hidden layer\")\n"
   ]
  },
  {
   "cell_type": "markdown",
   "id": "ae4aa755",
   "metadata": {},
   "source": [
    "### Calculating optimal lambda \n",
    "\n",
    "Conclusion: Most optimal lambda -> 0.2 "
   ]
  },
  {
   "cell_type": "code",
   "execution_count": 24,
   "id": "436eadd6",
   "metadata": {},
   "outputs": [
    {
     "name": "stdout",
     "output_type": "stream",
     "text": [
      "Lambda value with the least error:  0.1\n"
     ]
    }
   ],
   "source": [
    "lambda_values=np.array([0.1,0.2,0.4,0.8,1.6, 4,8,16,30])\n",
    "train_error2 = np.zeros(lambda_values.size)\n",
    "val_error2 =np.zeros(lambda_values.size)\n",
    "step_units_input = 50\n",
    "hiden_units_values_in = 82\n",
    "for i in range(lambda_values.size):\n",
    "    \n",
    "    theta1,theta2,initial_nn_params = neuralNetwork(step_units_input,lambda_values[i],hiden_units_values_in)\n",
    "    train_error2[i],_=nnCostFunction(initial_nn_params,input_layer_size,hiden_units_values_in,num_labels,Xtrain,ytrain)\n",
    "    val_error2[i],_=nnCostFunction(initial_nn_params,input_layer_size,hiden_units_values_in,num_labels,Xval,yval)\n",
    "\n",
    "print(\"Lambda value with the least error: \",lambda_values[np.argmin(val_error2)])"
   ]
  },
  {
   "cell_type": "code",
   "execution_count": 25,
   "id": "925689cc",
   "metadata": {
    "scrolled": true
   },
   "outputs": [
    {
     "data": {
      "image/png": "[encoded data removed]",
      "text/plain": [
       "<Figure size 432x288 with 1 Axes>"
      ]
     },
     "metadata": {
      "needs_background": "light"
     },
     "output_type": "display_data"
    }
   ],
   "source": [
    "plotData(train_error2,val_error2,lambda_values,\"Error\",\"Lambda\")\n"
   ]
  },
  {
   "cell_type": "markdown",
   "id": "5216a2f5",
   "metadata": {},
   "source": [
    "### Calculating optimal number of training steps \n",
    "\n",
    "Conclusion: The most optimal number of training steps -> 200. "
   ]
  },
  {
   "cell_type": "code",
   "execution_count": 26,
   "id": "f31578e3",
   "metadata": {},
   "outputs": [],
   "source": [
    "number_of_trainning_steps=np.array([50,100,200,250,300,400])\n",
    "train_error3 = np.zeros(number_of_trainning_steps.size)\n",
    "val_error3 =np.zeros(number_of_trainning_steps.size)\n",
    "hiden_units_values_in = 100\n",
    "lambda_in = 1\n",
    "for i in range(number_of_trainning_steps.size):\n",
    "    \n",
    "    theta1,theta2,initial_nn_params = neuralNetwork(number_of_trainning_steps[i],lambda_in,hiden_units_values_in)\n",
    "    train_error3[i],_=nnCostFunction(initial_nn_params,input_layer_size,hiden_units_values_in,num_labels,Xtrain,ytrain)\n",
    "    val_error3[i],_=nnCostFunction(initial_nn_params,input_layer_size,hiden_units_values_in,num_labels,Xval,yval)\n",
    "\n",
    "\n"
   ]
  },
  {
   "cell_type": "code",
   "execution_count": 27,
   "id": "2716ac78",
   "metadata": {},
   "outputs": [
    {
     "name": "stdout",
     "output_type": "stream",
     "text": [
      "Number of trainning steps with the least error:  300\n"
     ]
    }
   ],
   "source": [
    "print(\"Number of trainning steps with the least error: \",number_of_trainning_steps[np.argmin(val_error3)])"
   ]
  },
  {
   "cell_type": "code",
   "execution_count": 28,
   "id": "1e20d663",
   "metadata": {},
   "outputs": [
    {
     "data": {
      "image/png": "[encoded data removed]",
      "text/plain": [
       "<Figure size 432x288 with 1 Axes>"
      ]
     },
     "metadata": {
      "needs_background": "light"
     },
     "output_type": "display_data"
    }
   ],
   "source": [
    "plotData(train_error3,val_error3,number_of_trainning_steps,\"Error\",\"Number of training steps\")\n"
   ]
  },
  {
   "cell_type": "markdown",
   "id": "2be5bed8",
   "metadata": {},
   "source": [
    "### Calculating optimal threshold to classify people that earn above 50K dls\n",
    "\n",
    "Conclusion: The most optimal threshold -> people earn more than 50kdl if hypothesis>0.3. "
   ]
  },
  {
   "cell_type": "code",
   "execution_count": 29,
   "id": "31451654",
   "metadata": {},
   "outputs": [],
   "source": [
    "thresholds = np.array([0.1,0.2,0.3,0.33,0.36,0.4,0.5,0.8])\n",
    "train_f_score = np.zeros(thresholds.size)\n",
    "train_presicion = np.zeros(thresholds.size)\n",
    "train_recall = np.zeros(thresholds.size)\n",
    "val_f_score =np.zeros(thresholds.size)\n",
    "val_presicion =np.zeros(thresholds.size)\n",
    "val_recall = np.zeros(thresholds.size)\n",
    "hiden_units_values_in = 100\n",
    "lambda_in = 0.2\n",
    "number_of_trainning_steps=100\n",
    "\n",
    "for i in range(thresholds.size):\n",
    "    theta1,theta2,initial_nn_params = neuralNetwork(number_of_trainning_steps,lambda_in,hiden_units_values_in)\n",
    "    _,train_presicion[i],train_recall[i],train_f_score[i]=dispayPerformance(Xtrain,ytrain,theta1,theta2,thresholds[i])\n",
    "    _,val_presicion[i],val_recall[i],val_f_score[i],=dispayPerformance(Xval,yval,theta1,theta2,thresholds[i])\n"
   ]
  },
  {
   "cell_type": "code",
   "execution_count": 30,
   "id": "df2fb062",
   "metadata": {},
   "outputs": [
    {
     "name": "stdout",
     "output_type": "stream",
     "text": [
      "Threshold with the higher f-score for the validation set:  0.3\n"
     ]
    }
   ],
   "source": [
    "print(\"Threshold with the higher f-score for the validation set: \",thresholds[np.argmax(val_f_score)])\n",
    "\n"
   ]
  },
  {
   "cell_type": "code",
   "execution_count": 31,
   "id": "5f00340d",
   "metadata": {},
   "outputs": [
    {
     "data": {
      "image/png": "[encoded data removed]",
      "text/plain": [
       "<Figure size 432x288 with 1 Axes>"
      ]
     },
     "metadata": {
      "needs_background": "light"
     },
     "output_type": "display_data"
    },
    {
     "data": {
      "image/png": "[encoded data removed]",
      "text/plain": [
       "<Figure size 432x288 with 1 Axes>"
      ]
     },
     "metadata": {
      "needs_background": "light"
     },
     "output_type": "display_data"
    },
    {
     "data": {
      "image/png": "[encoded data removed]",
      "text/plain": [
       "<Figure size 432x288 with 1 Axes>"
      ]
     },
     "metadata": {
      "needs_background": "light"
     },
     "output_type": "display_data"
    }
   ],
   "source": [
    "plotData(train_f_score,val_f_score,thresholds,\"F-score\",\"Threshold\")\n",
    "\n",
    "plotData(train_presicion,val_presicion,thresholds,\"Presicion\",\"Threshold\")\n",
    "\n",
    "plotData(train_recall,val_recall,thresholds,\"Recall\",\"Threshold\")\n"
   ]
  },
  {
   "cell_type": "markdown",
   "id": "d15c64fb",
   "metadata": {},
   "source": [
    "# Testing model \n",
    "#### Parameters\n",
    "- lambda = 1\n",
    "- threshold = 0.3 \n",
    "- number of units in hidden layer = 100\n",
    "- number of trainning steps = 300"
   ]
  },
  {
   "cell_type": "code",
   "execution_count": 32,
   "id": "7a8f553b",
   "metadata": {},
   "outputs": [],
   "source": [
    "hiden_units_values_in = 100\n",
    "lambda_in = 1\n",
    "number_of_trainning_steps=300\n",
    "threshold =0.3\n",
    "theta1,theta2,initial_nn_params = neuralNetwork(number_of_trainning_steps,lambda_in,hiden_units_values_in)\n",
    "   "
   ]
  },
  {
   "cell_type": "code",
   "execution_count": 33,
   "id": "86b70453",
   "metadata": {
    "scrolled": true
   },
   "outputs": [
    {
     "name": "stdout",
     "output_type": "stream",
     "text": [
      "TEST SET\n",
      "Accuracy: 0.8272939442328953\n",
      "Presicion: 0.6023910528345545\n",
      "Recall: 0.806401652039236\n",
      "F-Score: 0.6896247240618102\n"
     ]
    }
   ],
   "source": [
    "accuracy,presicion,recall,f_score=dispayPerformance(Xtest,ytest,theta1,theta2,0.3)\n",
    "print(\"TEST SET\")\n",
    "print(\"Accuracy:\",accuracy)\n",
    "print(\"Presicion:\",presicion)\n",
    "print(\"Recall:\",recall)\n",
    "print(\"F-Score:\",f_score)"
   ]
  },
  {
   "cell_type": "code",
   "execution_count": 34,
   "id": "d99b1d72",
   "metadata": {},
   "outputs": [
    {
     "name": "stdout",
     "output_type": "stream",
     "text": [
      "TRAINING SET\n",
      "Accuracy: 0.838022113022113\n",
      "Presicion: 0.6240791004265219\n",
      "Recall: 0.8218023997957621\n",
      "F-Score: 0.7094214876033057\n"
     ]
    }
   ],
   "source": [
    "accuracy,presicion,recall,f_score=dispayPerformance(Xtrain,ytrain,theta1,theta2,0.3)\n",
    "print(\"TRAINING SET\")\n",
    "print(\"Accuracy:\",accuracy)\n",
    "print(\"Presicion:\",presicion)\n",
    "print(\"Recall:\",recall)\n",
    "print(\"F-Score:\",f_score)"
   ]
  },
  {
   "cell_type": "markdown",
   "id": "c0e32bd7",
   "metadata": {},
   "source": [
    "# Analysis "
   ]
  },
  {
   "cell_type": "markdown",
   "id": "dfe8175f",
   "metadata": {},
   "source": [
    "### Learning Curve"
   ]
  },
  {
   "cell_type": "code",
   "execution_count": 35,
   "id": "16dedcbc",
   "metadata": {},
   "outputs": [],
   "source": [
    "\n",
    "number_of_samples=np.array([16000,12000,8000,6000,4000,2000,1200,400,200,50,])\n",
    "train_error4 = np.zeros(number_of_samples.size)\n",
    "val_error4 =np.zeros(number_of_samples.size)\n",
    "hiden_units_values_in = 100\n",
    "lambda_in = 1\n",
    "number_of_trainning_steps=100\n",
    "for i in range(number_of_samples.size):\n",
    "    Xtrain=Xtrain[:number_of_samples[i],:]\n",
    "    ytrain=ytrain[:number_of_samples[i],:]\n",
    "    theta1,theta2,initial_nn_params = neuralNetwork(number_of_trainning_steps,lambda_in,hiden_units_values_in)\n",
    "    train_error4[i],_=nnCostFunction(initial_nn_params,input_layer_size,hiden_units_values_in,num_labels,Xtrain,ytrain)\n",
    "    val_error4[i],_=nnCostFunction(initial_nn_params,input_layer_size,hiden_units_values_in,num_labels,Xval,yval)\n",
    "\n",
    "\n"
   ]
  },
  {
   "cell_type": "code",
   "execution_count": 36,
   "id": "9702d1f7",
   "metadata": {},
   "outputs": [
    {
     "data": {
      "image/png": "[encoded data removed]",
      "text/plain": [
       "<Figure size 432x288 with 1 Axes>"
      ]
     },
     "metadata": {
      "needs_background": "light"
     },
     "output_type": "display_data"
    }
   ],
   "source": [
    "plotData(train_error4,val_error4,number_of_samples,\"Error\",\"Number of samples\")\n"
   ]
  },
  {
   "cell_type": "markdown",
   "id": "122eba16",
   "metadata": {},
   "source": [
    "### Confusion Matrix"
   ]
  },
  {
   "cell_type": "code",
   "execution_count": 37,
   "id": "2642d0f1",
   "metadata": {},
   "outputs": [],
   "source": [
    "\n",
    "theta1,theta2,initial_nn_params = neuralNetwork(number_of_trainning_steps,lambda_in,hiden_units_values_in)\n",
    "hyp_test = fowardPropagation(Xtest,theta1,theta2)"
   ]
  },
  {
   "cell_type": "code",
   "execution_count": 38,
   "id": "6305369c",
   "metadata": {},
   "outputs": [],
   "source": [
    "hyp_= [0 if value < 0.3 else 1 for value in hyp_test]"
   ]
  },
  {
   "cell_type": "code",
   "execution_count": 39,
   "id": "a814c7a3",
   "metadata": {},
   "outputs": [
    {
     "name": "stdout",
     "output_type": "stream",
     "text": [
      "[0, 1]\n"
     ]
    },
    {
     "data": {
      "image/png": "[encoded data removed]",
      "text/plain": [
       "<Figure size 432x288 with 2 Axes>"
      ]
     },
     "metadata": {
      "needs_background": "light"
     },
     "output_type": "display_data"
    }
   ],
   "source": [
    "from sklearn.metrics import confusion_matrix\n",
    "labels = list(range(2))\n",
    "print(labels)\n",
    "cm = confusion_matrix(y_true=ytest, y_pred=hyp_, labels=labels )\n",
    "fig = plt.figure()\n",
    "ax = fig.add_subplot(111)\n",
    "cax = ax.matshow(cm)\n",
    "fig.colorbar(cax)\n",
    "ax.set_xticks(labels)\n",
    "ax.set_yticks(labels)\n",
    "ax.set_xticklabels(labels)\n",
    "ax.set_yticklabels(labels)\n",
    "plt.tight_layout()\n",
    "plt.ylabel(\"Predicted Class\")\n",
    "plt.xlabel(\"Actual Class\")\n",
    "plt.show()"
   ]
  },
  {
   "cell_type": "code",
   "execution_count": 49,
   "id": "999a0b01-c970-411f-8f6b-8da768937eee",
   "metadata": {},
   "outputs": [
    {
     "data": {
      "text/html": [
       "<div>\n",
       "<style scoped>\n",
       "    .dataframe tbody tr th:only-of-type {\n",
       "        vertical-align: middle;\n",
       "    }\n",
       "\n",
       "    .dataframe tbody tr th {\n",
       "        vertical-align: top;\n",
       "    }\n",
       "\n",
       "    .dataframe thead th {\n",
       "        text-align: right;\n",
       "    }\n",
       "</style>\n",
       "<table border=\"1\" class=\"dataframe\">\n",
       "  <thead>\n",
       "    <tr style=\"text-align: right;\">\n",
       "      <th></th>\n",
       "      <th>accuracy</th>\n",
       "      <th>precision</th>\n",
       "      <th>recall</th>\n",
       "      <th>f_measure</th>\n",
       "      <th>sensitivity</th>\n",
       "      <th>specificity</th>\n",
       "      <th>error_rate</th>\n",
       "    </tr>\n",
       "  </thead>\n",
       "  <tbody>\n",
       "    <tr>\n",
       "      <th>logistic_reg</th>\n",
       "      <td>0.712075</td>\n",
       "      <td>0.445892</td>\n",
       "      <td>0.865772</td>\n",
       "      <td>0.588628</td>\n",
       "      <td>0.865772</td>\n",
       "      <td>0.664088</td>\n",
       "      <td>0.287925</td>\n",
       "    </tr>\n",
       "  </tbody>\n",
       "</table>\n",
       "</div>"
      ],
      "text/plain": [
       "              accuracy  precision    recall  f_measure  sensitivity  \\\n",
       "logistic_reg  0.712075   0.445892  0.865772   0.588628     0.865772   \n",
       "\n",
       "              specificity  error_rate  \n",
       "logistic_reg     0.664088    0.287925  "
      ]
     },
     "metadata": {},
     "output_type": "display_data"
    },
    {
     "name": "stdout",
     "output_type": "stream",
     "text": [
      "\n",
      "\n"
     ]
    },
    {
     "data": {
      "image/png": "[encoded data removed]",
      "text/plain": [
       "<Figure size 432x288 with 2 Axes>"
      ]
     },
     "metadata": {
      "needs_background": "light"
     },
     "output_type": "display_data"
    }
   ],
   "source": [
    "#print(ytest)\n",
    "#print(hyp_)\n",
    "#print(len(ytest))\n",
    "#print(len(hyp_))\n",
    "ANN=model_evaluation(ytest.flatten(),hyp_)\n",
    "ovl_ANN = round(pd.DataFrame([ANN], index = ['logistic_reg']),6)\n",
    "display(ovl_ANN)\n",
    "print('\\n')\n",
    "confusion_matrix_plotter(ytest,hyp_)"
   ]
  },
  {
   "cell_type": "code",
   "execution_count": null,
   "id": "60fdcc2d-2323-4656-98c8-4271768283ef",
   "metadata": {},
   "outputs": [],
   "source": []
  }
 ],
 "metadata": {
  "kernelspec": {
   "display_name": "Python 3 (ipykernel)",
   "language": "python",
   "name": "python3"
  },
  "language_info": {
   "codemirror_mode": {
    "name": "ipython",
    "version": 3
   },
   "file_extension": ".py",
   "mimetype": "text/x-python",
   "name": "python",
   "nbconvert_exporter": "python",
   "pygments_lexer": "ipython3",
   "version": "3.9.12"
  }
 },
 "nbformat": 4,
 "nbformat_minor": 5
}
