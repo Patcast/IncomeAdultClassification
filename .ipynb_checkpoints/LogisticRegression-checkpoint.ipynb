{
 "cells": [
  {
   "cell_type": "code",
   "execution_count": null,
   "id": "be7b386e-a07a-4932-8011-866457476d1f",
   "metadata": {},
   "outputs": [],
   "source": [
    "import numpy as np\n",
    "import pandas as pd\n",
    "\n",
    "#visualization libraries\n",
    "import matplotlib.pyplot as plt\n",
    "import seaborn as sns\n",
    "\n",
    "#preprocessing\n",
    "from sklearn.preprocessing import LabelEncoder\n",
    "from sklearn.preprocessing import MinMaxScaler\n",
    "\n",
    "#Checking Z value for outlier treatment\n",
    "from scipy import stats\n",
    "\n",
    "from sklearn.decomposition import PCA\n",
    "\n",
    "#splitting the dataset into training and testing. 60:20:20 \n",
    "# 60% for training, 20% for validation and 20% for testing.\n",
    "from sklearn.model_selection import train_test_split\n",
    "\n",
    "#picking models for prediction.\n",
    "from sklearn.linear_model import LogisticRegression\n",
    "from sklearn.neighbors import KNeighborsClassifier\n",
    "from sklearn.tree import DecisionTreeClassifier\n",
    "from sklearn.svm import SVC\n",
    "\n",
    "#ensemble models for better performance\n",
    "from sklearn.ensemble import AdaBoostClassifier\n",
    "from sklearn.ensemble import RandomForestClassifier\n",
    "\n",
    "#error evaluation\n",
    "from sklearn.metrics import mean_squared_error\n",
    "%matplotlib inline"
   ]
  },
  {
   "cell_type": "code",
   "execution_count": null,
   "id": "2d8c42ef-ca36-44dd-bed1-fb0d93fe69df",
   "metadata": {},
   "outputs": [],
   "source": [
    "data_x = pd.read_csv('adult_processed_x.csv')"
   ]
  },
  {
   "cell_type": "code",
   "execution_count": null,
   "id": "49b47dad-e1cf-44fc-8165-5e47f7d9a007",
   "metadata": {},
   "outputs": [],
   "source": [
    "data_y= pd.read_csv('adult_processed_y.csv')"
   ]
  },
  {
   "cell_type": "code",
   "execution_count": null,
   "id": "caab24b7-9453-49b9-a7fb-4614f967d08d",
   "metadata": {},
   "outputs": [],
   "source": [
    "data_x"
   ]
  },
  {
   "cell_type": "code",
   "execution_count": null,
   "id": "fe7baedb-7d03-4c29-a362-8898ea8605ed",
   "metadata": {},
   "outputs": [],
   "source": [
    "data_y"
   ]
  },
  {
   "cell_type": "code",
   "execution_count": null,
   "id": "e468f1e1-4953-47a0-8601-00c82b9dc00e",
   "metadata": {},
   "outputs": [],
   "source": [
    "data_x.info()"
   ]
  },
  {
   "cell_type": "code",
   "execution_count": null,
   "id": "76905215-186f-4d8d-b5c1-eb245b325e38",
   "metadata": {},
   "outputs": [],
   "source": [
    "data_y.info()"
   ]
  },
  {
   "cell_type": "code",
   "execution_count": null,
   "id": "a5b577eb-f705-4059-a021-33984ca56d79",
   "metadata": {},
   "outputs": [],
   "source": [
    "col_names_data_x=list(data_x.columns)\n",
    "print('col_names: {} \\n\\nlength: {}'.format(col_names_data_x, len(col_names_data_x)))"
   ]
  },
  {
   "cell_type": "code",
   "execution_count": null,
   "id": "06cc9df6-b816-4331-94f4-22e19b9edefb",
   "metadata": {},
   "outputs": [],
   "source": [
    "col_names_data_y=list(data_y.columns)\n",
    "print('col_names: {} \\n\\nlength: {}'.format(col_names_data_y, len(col_names_data_y)))"
   ]
  },
  {
   "cell_type": "code",
   "execution_count": null,
   "id": "7b71ff2d-7bae-4cc7-9319-4e58cf6a3685",
   "metadata": {},
   "outputs": [],
   "source": [
    "def printmd(string):\n",
    "    display(Markdown(string))\n",
    "from IPython.display import Markdown, display\n",
    "\n",
    "data_x = pd.read_csv('adult_processed_x.csv', sep=\",\\s\",names=col_names_data_x, header=None,engine = 'python')\n",
    "data_y = pd.read_csv('adult_processed_x.csv',sep=\",\\s\",names=col_names_data_y, header=None,engine = 'python')\n",
    "\n",
    "printmd('## 2.1. Education vs Income')\n",
    "\n",
    "education = round(pd.crosstab(data_x.age, data_y.income_larger_than_50k).div(pd.crosstab(data_x.age, data_y.income_larger_than_50k).apply(sum,1),0),2)\n",
    "education = education.reindex(sorted(edu_level, key=edu_level.get, reverse=False))\n",
    "\n",
    "ax = education.plot(kind ='bar', title = 'Proportion distribution across education levels', figsize = (10,8))\n",
    "ax.set_xlabel('Education level')\n",
    "ax.set_ylabel('Proportion of population')\n",
    "\n",
    "printmd('I plot a bar graph showing the proportion of income classes across education levels \\\n",
    "        in the figure below. As one would expect, we see from the bar graph below that as the \\\n",
    "        education level increase, the proportion of people who earn more than 50k a year also \\\n",
    "        increase. It is interesting to note that only after a master\\'s degree, the proportion of \\\n",
    "        people earning more than 50k a year, is a majority.')"
   ]
  },
  {
   "cell_type": "code",
   "execution_count": null,
   "id": "8b71f92c-9c3a-49d1-884b-a3c4622d47cc",
   "metadata": {},
   "outputs": [],
   "source": []
  },
  {
   "cell_type": "code",
   "execution_count": null,
   "id": "72330146-afb1-49d0-93fc-2afcf26f0bd8",
   "metadata": {},
   "outputs": [],
   "source": []
  },
  {
   "cell_type": "code",
   "execution_count": null,
   "id": "c5a2474b-9e34-4320-a38f-1e1fc4c299ac",
   "metadata": {},
   "outputs": [],
   "source": []
  }
 ],
 "metadata": {
  "kernelspec": {
   "display_name": "Python 3 (ipykernel)",
   "language": "python",
   "name": "python3"
  },
  "language_info": {
   "codemirror_mode": {
    "name": "ipython",
    "version": 3
   },
   "file_extension": ".py",
   "mimetype": "text/x-python",
   "name": "python",
   "nbconvert_exporter": "python",
   "pygments_lexer": "ipython3",
   "version": "3.9.12"
  }
 },
 "nbformat": 4,
 "nbformat_minor": 5
}
